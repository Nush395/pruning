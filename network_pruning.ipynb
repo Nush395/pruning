{
  "nbformat": 4,
  "nbformat_minor": 0,
  "metadata": {
    "colab": {
      "name": "network_pruning.ipynb",
      "provenance": [],
      "toc_visible": true,
      "authorship_tag": "ABX9TyMT8f4jv+eFXkM1PsURogJU",
      "include_colab_link": true
    },
    "kernelspec": {
      "name": "python3",
      "display_name": "Python 3"
    }
  },
  "cells": [
    {
      "cell_type": "markdown",
      "metadata": {
        "id": "view-in-github",
        "colab_type": "text"
      },
      "source": [
        "<a href=\"https://colab.research.google.com/github/Nush395/pruning/blob/master/network_pruning.ipynb\" target=\"_parent\"><img src=\"https://colab.research.google.com/assets/colab-badge.svg\" alt=\"Open In Colab\"/></a>"
      ]
    },
    {
      "cell_type": "markdown",
      "metadata": {
        "id": "1wHP03ngQSNM",
        "colab_type": "text"
      },
      "source": [
        "# Introduction"
      ]
    },
    {
      "cell_type": "markdown",
      "metadata": {
        "id": "-h88bRgyQdsl",
        "colab_type": "text"
      },
      "source": [
        "Training a large network on MNIST and then pruning it to make it smaller."
      ]
    },
    {
      "cell_type": "markdown",
      "metadata": {
        "id": "kI2GlhjsQ0FH",
        "colab_type": "text"
      },
      "source": [
        "# Requirements and Imports"
      ]
    },
    {
      "cell_type": "code",
      "metadata": {
        "id": "02eRc_vDrOFj",
        "colab_type": "code",
        "colab": {}
      },
      "source": [
        "!pip install tensorflow==2.2.0"
      ],
      "execution_count": null,
      "outputs": []
    },
    {
      "cell_type": "markdown",
      "metadata": {
        "id": "ftF3TUd9OxxH",
        "colab_type": "text"
      },
      "source": [
        "# Data and model set up"
      ]
    },
    {
      "cell_type": "code",
      "metadata": {
        "id": "Xg2zuUhyRzdd",
        "colab_type": "code",
        "colab": {}
      },
      "source": [
        "import tensorflow as tf\n",
        "from tensorflow.keras.layers import Lambda, ReLU, Dense, Flatten\n",
        "import numpy as np\n",
        "import pandas as pd\n",
        "import matplotlib.pyplot as plt\n",
        "import time"
      ],
      "execution_count": 197,
      "outputs": []
    },
    {
      "cell_type": "markdown",
      "metadata": {
        "id": "h2r4n0A2R51D",
        "colab_type": "text"
      },
      "source": [
        "## Define a Pruned Model"
      ]
    },
    {
      "cell_type": "markdown",
      "metadata": {
        "id": "cosNLDLMrs_u",
        "colab_type": "text"
      },
      "source": [
        "Here I've defined a custom model which contains methods to prune units and neurons. A mask is applied to weights with value zero (I've assumed a weight will only be zero if it's pruned) so that they won't be updated by backprop anymore."
      ]
    },
    {
      "cell_type": "code",
      "metadata": {
        "id": "KDKYbScAWXJr",
        "colab_type": "code",
        "colab": {}
      },
      "source": [
        "class PruneLayer(Dense):\n",
        "    def __init__(self, units, sparse_weight=False, sparse_input=False):\n",
        "        super().__init__(units, use_bias=False, activation='relu')\n",
        "        self.sparse_compute = sparse_compute\n",
        "        self.sparse_input = sparse_input\n",
        "        self.sparse_kernel = None\n",
        "\n",
        "    def build(self, input_shape):\n",
        "        super().build(input_shape)\n",
        "        self.mask = tf.ones_like(self.kernel, dtype=tf.float32)\n",
        "\n",
        "    def create_sparse_kernel(self):\n",
        "        if self.built:\n",
        "            self.sparse_kernel = tf.sparse.from_dense(self.kernel)\n",
        "            self.sparse_compute = True\n",
        "        else:\n",
        "            raise Exception(\"There isn't yet a kernel to make sparse.\")\n",
        "\n",
        "    def call(self, inputs):\n",
        "        if self.sparse_compute:\n",
        "            x = tf.sparse.sparse_dense_matmul(inputs, self.sparse_kernel)\n",
        "        else:\n",
        "            x = tf.linalg.matmul(inputs, self.mask * self.kernel, \n",
        "                                 b_is_sparse=self.sparse_compute,\n",
        "                                 a_is_sparse=self.sparse_input)\n",
        "        return self.activation(x) "
      ],
      "execution_count": 215,
      "outputs": []
    },
    {
      "cell_type": "code",
      "metadata": {
        "id": "KUVcUsRfSE3L",
        "colab_type": "code",
        "colab": {}
      },
      "source": [
        "class PruneModel(tf.keras.Model):\n",
        "    def __init__(self, sparse_compute=False):\n",
        "        super().__init__()\n",
        "        hidden_layer_units = [1000, 1000, 500, 200]\n",
        "        self.hidden_layers = [PruneLayer(units) for units in hidden_layer_units]\n",
        "        self.prunable_layers = self.hidden_layers\n",
        "        self.output_layer = Dense(10, activation='softmax', use_bias=False)\n",
        "\n",
        "    def call(self, inputs):\n",
        "        x = inputs\n",
        "        for layer in self.hidden_layers:\n",
        "            x = layer(x)\n",
        "\n",
        "        return self.output_layer(x)\n",
        "\n",
        "    def prune(self, sparsity: float, mode='weight'):\n",
        "        \"\"\"Apply pruning of specified mode to all the layers that have been\n",
        "        defined as prunable_layers.\n",
        "\n",
        "        Args:\n",
        "            sparsity: The percentage of sparsity to be achieved.\n",
        "            mode: The pruning criterion to use.\n",
        "        \"\"\"\n",
        "        if not self.built:\n",
        "            raise ValueError(\"Model must be built.\")\n",
        "        if not 0 <= sparsity < 100:\n",
        "            raise ValueError(\"Sparsity must be in [0,100].\")\n",
        "\n",
        "        for layer in self.prunable_layers:\n",
        "            weights = layer.get_weights()[0]\n",
        "            if mode == 'weight':\n",
        "                pruned_weights = self._prune_matrix_weights(weights, sparsity)\n",
        "            elif mode == 'unit':\n",
        "                pruned_weights = self._prune_matrix_units(weights, sparsity)\n",
        "            else:\n",
        "                raise ValueError(\"Unrecognised mode of pruning.\")\n",
        "\n",
        "            layer.set_weights([pruned_weights])\n",
        "            layer.mask = tf.cast(tf.not_equal(layer.kernel,0), 'float32')\n",
        "\n",
        "    @staticmethod\n",
        "    def _prune_matrix_weights(weights: np.ndarray, sparsity: float):\n",
        "        \"\"\"Prune a percentage of the weights in a layer that have the smallest\n",
        "        magnitude.\n",
        "        \n",
        "        Args:\n",
        "            weights: The input weight matrix to be pruned.\n",
        "            sparsity: The percantage of weights to prune.\n",
        "        Returns:\n",
        "            pruned_weights: The pruned weight matrix.\n",
        "        \"\"\"\n",
        "        pruned_weights = weights.flatten()\n",
        "        num_to_prune = int(len(pruned_weights) * (sparsity / 100))\n",
        "        smallest_indices = np.argpartition(np.absolute(pruned_weights), \n",
        "                                           num_to_prune)[:num_to_prune]\n",
        "        pruned_weights[smallest_indices] = 0\n",
        "        pruned_weights = pruned_weights.reshape(weights.shape)\n",
        "\n",
        "        return pruned_weights\n",
        "\n",
        "    @staticmethod\n",
        "    def _prune_matrix_units(weights: np.ndarray, sparsity: float):\n",
        "        \"\"\"Prune a percentage of the columns of the input matrix that have the\n",
        "        smallest L2 norm.\n",
        "\n",
        "        Args:\n",
        "            weights: The input weight matrix to be pruned.\n",
        "            sparsity: The percentage of columns to prune.\n",
        "        Returns:\n",
        "            weights: The pruned weight matrix.\n",
        "        \"\"\"\n",
        "        num_to_prune = int(weights.shape[1] * (sparsity / 100))\n",
        "        norms = np.linalg.norm(weights, axis=0)\n",
        "        smallest_indices = np.argpartition(norms, num_to_prune)[:num_to_prune]\n",
        "        weights[:, smallest_indices] = 0\n",
        "\n",
        "        return weights"
      ],
      "execution_count": 216,
      "outputs": []
    },
    {
      "cell_type": "markdown",
      "metadata": {
        "id": "wELJI40eWqL4",
        "colab_type": "text"
      },
      "source": [
        "## Data, model preparation and training.\n",
        "\n",
        "---\n",
        "\n"
      ]
    },
    {
      "cell_type": "markdown",
      "metadata": {
        "id": "adIb64GXsiIS",
        "colab_type": "text"
      },
      "source": [
        "Preparation of MNIST data and then fitting and evaluating the unpruned model."
      ]
    },
    {
      "cell_type": "markdown",
      "metadata": {
        "id": "gr0a5EP7O8HH",
        "colab_type": "text"
      },
      "source": [
        "# Pruning Evaluation"
      ]
    },
    {
      "cell_type": "code",
      "metadata": {
        "id": "aocWoNjLW5pp",
        "colab_type": "code",
        "colab": {}
      },
      "source": [
        "# create a model\n",
        "model = PruneModel()\n",
        "model.compile(loss='sparse_categorical_crossentropy', optimizer='adam',\n",
        "              metrics=['accuracy'])\n",
        "es = tf.keras.callbacks.EarlyStopping(monitor='val_loss', mode='min', verbose=1, \n",
        "                                      patience=10)"
      ],
      "execution_count": 217,
      "outputs": []
    },
    {
      "cell_type": "code",
      "metadata": {
        "id": "Dgoe8WaEXqfc",
        "colab_type": "code",
        "colab": {}
      },
      "source": [
        "# load MNIST data\n",
        "(x_train, y_train), (x_test, y_test) = tf.keras.datasets.mnist.load_data()\n",
        "\n",
        "# Preprocess the data (these are NumPy arrays)\n",
        "x_train = x_train.reshape(60000, 784).astype(\"float32\") / 255\n",
        "x_test = x_test.reshape(10000, 784).astype(\"float32\") / 255\n",
        "y_train = y_train.astype(\"float32\")\n",
        "y_test = y_test.astype(\"float32\")"
      ],
      "execution_count": 185,
      "outputs": []
    },
    {
      "cell_type": "code",
      "metadata": {
        "id": "de5hky_eXvxj",
        "colab_type": "code",
        "colab": {
          "base_uri": "https://localhost:8080/",
          "height": 558
        },
        "outputId": "455c6a0b-8590-46b0-c63e-5de3b480c5a8"
      },
      "source": [
        "# fit the model\n",
        "history = model.fit(x_train, y_train, batch_size=512, epochs=100, \n",
        "                    validation_split=0.2, callbacks=[es])"
      ],
      "execution_count": 218,
      "outputs": [
        {
          "output_type": "stream",
          "text": [
            "Epoch 1/100\n",
            "94/94 [==============================] - 13s 140ms/step - loss: 0.3229 - accuracy: 0.9008 - val_loss: 0.1261 - val_accuracy: 0.9641\n",
            "Epoch 2/100\n",
            "94/94 [==============================] - 13s 139ms/step - loss: 0.0927 - accuracy: 0.9720 - val_loss: 0.1018 - val_accuracy: 0.9679\n",
            "Epoch 3/100\n",
            "94/94 [==============================] - 13s 139ms/step - loss: 0.0581 - accuracy: 0.9813 - val_loss: 0.0903 - val_accuracy: 0.9724\n",
            "Epoch 4/100\n",
            "94/94 [==============================] - 13s 138ms/step - loss: 0.0370 - accuracy: 0.9879 - val_loss: 0.1190 - val_accuracy: 0.9665\n",
            "Epoch 5/100\n",
            "94/94 [==============================] - 13s 138ms/step - loss: 0.0293 - accuracy: 0.9904 - val_loss: 0.0866 - val_accuracy: 0.9776\n",
            "Epoch 6/100\n",
            "94/94 [==============================] - 13s 139ms/step - loss: 0.0167 - accuracy: 0.9947 - val_loss: 0.1084 - val_accuracy: 0.9728\n",
            "Epoch 7/100\n",
            "94/94 [==============================] - 13s 139ms/step - loss: 0.0167 - accuracy: 0.9945 - val_loss: 0.1147 - val_accuracy: 0.9744\n",
            "Epoch 8/100\n",
            "94/94 [==============================] - 13s 139ms/step - loss: 0.0205 - accuracy: 0.9935 - val_loss: 0.0927 - val_accuracy: 0.9777\n",
            "Epoch 9/100\n",
            "94/94 [==============================] - 13s 139ms/step - loss: 0.0187 - accuracy: 0.9940 - val_loss: 0.1172 - val_accuracy: 0.9723\n",
            "Epoch 10/100\n",
            "94/94 [==============================] - 13s 140ms/step - loss: 0.0158 - accuracy: 0.9947 - val_loss: 0.0965 - val_accuracy: 0.9780\n",
            "Epoch 11/100\n",
            "94/94 [==============================] - 13s 139ms/step - loss: 0.0079 - accuracy: 0.9978 - val_loss: 0.1036 - val_accuracy: 0.9799\n",
            "Epoch 12/100\n",
            "94/94 [==============================] - 13s 139ms/step - loss: 0.0111 - accuracy: 0.9964 - val_loss: 0.1095 - val_accuracy: 0.9772\n",
            "Epoch 13/100\n",
            "94/94 [==============================] - 13s 139ms/step - loss: 0.0118 - accuracy: 0.9960 - val_loss: 0.1229 - val_accuracy: 0.9741\n",
            "Epoch 14/100\n",
            "94/94 [==============================] - 13s 139ms/step - loss: 0.0099 - accuracy: 0.9969 - val_loss: 0.1180 - val_accuracy: 0.9762\n",
            "Epoch 15/100\n",
            "94/94 [==============================] - 13s 139ms/step - loss: 0.0114 - accuracy: 0.9964 - val_loss: 0.1114 - val_accuracy: 0.9772\n",
            "Epoch 00015: early stopping\n"
          ],
          "name": "stdout"
        }
      ]
    },
    {
      "cell_type": "code",
      "metadata": {
        "id": "_talT2UXX69A",
        "colab_type": "code",
        "colab": {
          "base_uri": "https://localhost:8080/",
          "height": 50
        },
        "outputId": "bf2f0e12-6c10-4865-b72f-11c4dcad4174"
      },
      "source": [
        "# Evaluate the model on the unseen test data.\n",
        "test_scores = model.evaluate(x_test, y_test, verbose=0)\n",
        "print('Test loss:', test_scores[0])\n",
        "print('Test accuracy:', test_scores[1])"
      ],
      "execution_count": 187,
      "outputs": [
        {
          "output_type": "stream",
          "text": [
            "Test loss: 0.09925252944231033\n",
            "Test accuracy: 0.9782000184059143\n"
          ],
          "name": "stdout"
        }
      ]
    },
    {
      "cell_type": "markdown",
      "metadata": {
        "id": "mlMPqrbFst1-",
        "colab_type": "text"
      },
      "source": [
        "## Before fine-tuning"
      ]
    },
    {
      "cell_type": "code",
      "metadata": {
        "id": "rXBXppvatJVs",
        "colab_type": "code",
        "colab": {}
      },
      "source": [
        "unpruned_weights = model.get_weights()\n",
        "pruning_factors = [0, 25, 50, 60, 70, 80, 90, 95, 97, 99]"
      ],
      "execution_count": 188,
      "outputs": []
    },
    {
      "cell_type": "code",
      "metadata": {
        "id": "GcGFVA__tOTr",
        "colab_type": "code",
        "colab": {}
      },
      "source": [
        "w_pruning_acc = []\n",
        "for pf in pruning_factors:\n",
        "    model.prune(pf, mode='weight')\n",
        "    test_scores = model.evaluate(x_test, y_test, verbose=0)\n",
        "    w_pruning_acc.append(test_scores[1])"
      ],
      "execution_count": null,
      "outputs": []
    },
    {
      "cell_type": "code",
      "metadata": {
        "id": "MbmxfGsitKRv",
        "colab_type": "code",
        "colab": {}
      },
      "source": [
        "u_pruning_acc = []\n",
        "model.set_weights(unpruned_weights)\n",
        "model.mas\n",
        "for pf in pruning_factors:\n",
        "    model.prune(pf, mode='unit')\n",
        "    test_scores = model.evaluate(x_test, y_test, verbose=0)\n",
        "    u_pruning_acc.append(test_scores[1])"
      ],
      "execution_count": 190,
      "outputs": []
    },
    {
      "cell_type": "code",
      "metadata": {
        "id": "ov-BkkQHtt24",
        "colab_type": "code",
        "colab": {
          "base_uri": "https://localhost:8080/",
          "height": 312
        },
        "outputId": "462ddaa8-1167-46a0-d661-1a9dab49686c"
      },
      "source": [
        "df = pd.DataFrame(index=pruning_factors, data={'unit prune': u_pruning_acc,\n",
        "                                               'weight prune': w_pruning_acc})\n",
        "ax = df.plot.line(title='MNIST accuracy for varying sparsity from unit and weight pruning.')\n",
        "ax.set_xlabel(\"Sparsity percentage\")\n",
        "ax.set_ylabel(\"Accuracy\")"
      ],
      "execution_count": 191,
      "outputs": [
        {
          "output_type": "execute_result",
          "data": {
            "text/plain": [
              "Text(0, 0.5, 'Accuracy')"
            ]
          },
          "metadata": {
            "tags": []
          },
          "execution_count": 191
        },
        {
          "output_type": "display_data",
          "data": {
            "image/png": "[encoded data removed]",
            "text/plain": [
              "<Figure size 432x288 with 1 Axes>"
            ]
          },
          "metadata": {
            "tags": [],
            "needs_background": "light"
          }
        }
      ]
    },
    {
      "cell_type": "markdown",
      "metadata": {
        "id": "9-Kup1dDsxIO",
        "colab_type": "text"
      },
      "source": [
        "## After fine-tuning"
      ]
    },
    {
      "cell_type": "markdown",
      "metadata": {
        "id": "XRsSq_aWAizf",
        "colab_type": "text"
      },
      "source": [
        "Next up I also wanted to see whether the pruned performance could be made any better by fine tuning the pruned models for another couple epochs."
      ]
    },
    {
      "cell_type": "code",
      "metadata": {
        "id": "XCQTSQ2cArsx",
        "colab_type": "code",
        "colab": {}
      },
      "source": [
        "# fine tuning after weight pruning\n",
        "model.set_weights(unpruned_weights)\n",
        "w_pruning_acc = []\n",
        "for pf in pruning_factors:\n",
        "    model.prune(pf, mode='weight')\n",
        "    model.compile(loss='sparse_categorical_crossentropy', \n",
        "                  optimizer='adam', metrics=['accuracy'])\n",
        "    model.fit(x_train, y_train, batch_size=512, epochs=100, \n",
        "              validation_split=0.2, callbacks=[es], verbose=0)\n",
        "    test_scores = model.evaluate(x_test, y_test, verbose=0)\n",
        "    w_pruning_acc.append(test_scores[1])  \n",
        "\n",
        "pruned_weights = model.get_weights() "
      ],
      "execution_count": null,
      "outputs": []
    },
    {
      "cell_type": "code",
      "metadata": {
        "id": "-iudv2iNElYV",
        "colab_type": "code",
        "colab": {
          "base_uri": "https://localhost:8080/",
          "height": 185
        },
        "outputId": "ac2a3dbd-8462-4fa6-89c4-61b04a2d4b94"
      },
      "source": [
        "# fine tuning after unit pruning\n",
        "model.set_weights(unpruned_weights)\n",
        "u_pruning_acc = []\n",
        "for pf in pruning_factors:\n",
        "    model.prune(pf, mode='unit')\n",
        "    model.compile(loss='sparse_categorical_crossentropy',\n",
        "                  optimizer='adam', metrics=['accuracy'])\n",
        "    model.fit(x_train, y_train, batch_size=512, epochs=100, \n",
        "              validation_split=0.2, callbacks=[es], verbose=0)\n",
        "    test_scores = model.evaluate(x_test, y_test, verbose=0)\n",
        "    u_pruning_acc.append(test_scores[1]) "
      ],
      "execution_count": 193,
      "outputs": [
        {
          "output_type": "stream",
          "text": [
            "Epoch 00011: early stopping\n",
            "Epoch 00023: early stopping\n",
            "Epoch 00016: early stopping\n",
            "Epoch 00019: early stopping\n",
            "Epoch 00016: early stopping\n",
            "Epoch 00011: early stopping\n",
            "Epoch 00013: early stopping\n",
            "Epoch 00017: early stopping\n",
            "Epoch 00021: early stopping\n",
            "Epoch 00068: early stopping\n"
          ],
          "name": "stdout"
        }
      ]
    },
    {
      "cell_type": "code",
      "metadata": {
        "id": "yx-CEq4WFLx2",
        "colab_type": "code",
        "colab": {
          "base_uri": "https://localhost:8080/",
          "height": 312
        },
        "outputId": "c30723bb-e471-49be-fffe-8817ecf5a47e"
      },
      "source": [
        "df = pd.DataFrame(index=pruning_factors, data={'unit prune': u_pruning_acc,\n",
        "                                               'weight prune': w_pruning_acc})\n",
        "ax = df.plot.line(title=('MNIST accuracy for varying sparsity from unit and weight pruning - post fine tuning.'))\n",
        "ax.set_xlabel(\"Sparsity percentage\")\n",
        "ax.set_ylabel(\"Accuracy\")"
      ],
      "execution_count": 195,
      "outputs": [
        {
          "output_type": "execute_result",
          "data": {
            "text/plain": [
              "Text(0, 0.5, 'Accuracy')"
            ]
          },
          "metadata": {
            "tags": []
          },
          "execution_count": 195
        },
        {
          "output_type": "display_data",
          "data": {
            "image/png": "[encoded data removed]",
            "text/plain": [
              "<Figure size 432x288 with 1 Axes>"
            ]
          },
          "metadata": {
            "tags": [],
            "needs_background": "light"
          }
        }
      ]
    },
    {
      "cell_type": "markdown",
      "metadata": {
        "id": "Fq6VxywkFcuJ",
        "colab_type": "text"
      },
      "source": [
        "# Bonus - Improving inference time for sparse model"
      ]
    },
    {
      "cell_type": "markdown",
      "metadata": {
        "id": "n-_KADhPFhWQ",
        "colab_type": "text"
      },
      "source": [
        "In the TF Docs I found that the linalg.matmul operation supports optimisations for sparse matrix multiplications. As the 99% sparse weight pruned model still performs quite well, going to have a play and see if we can speed up inference time exploiting these optimisations."
      ]
    },
    {
      "cell_type": "code",
      "metadata": {
        "id": "5T008v-1HkDL",
        "colab_type": "code",
        "colab": {
          "base_uri": "https://localhost:8080/",
          "height": 34
        },
        "outputId": "28109f56-64fd-4315-d228-c0b5ca22e7e3"
      },
      "source": [
        "model.prune(99, mode='unit')\n",
        "for layer in model.prunable_layers:\n",
        "    layer.sparse_compute = False\n",
        "    layer.sparse_input = False\n",
        "start_time = time.time()\n",
        "for _ in range(50):\n",
        "    test_scores = model.evaluate(x_train, y_train, verbose=0)\n",
        "print(time.time()-start_time)\n",
        "\n",
        "for layer in model.prunable_layers:\n",
        "    layer.sparse_compute = True\n",
        "    layer.sparse_input = True\n",
        "start_time = time.time()\n",
        "for _ in range(50):\n",
        "    test_scores = model.evaluate(x_train, y_train, verbose=0)\n",
        "print(time.time()-start_time)"
      ],
      "execution_count": null,
      "outputs": [
        {
          "output_type": "stream",
          "text": [
            "751.0045845508575\n"
          ],
          "name": "stdout"
        }
      ]
    },
    {
      "cell_type": "markdown",
      "metadata": {
        "id": "SncVoL6kaHHx",
        "colab_type": "text"
      },
      "source": [
        "# Conclusions"
      ]
    },
    {
      "cell_type": "markdown",
      "metadata": {
        "id": "ArP3nHvmPNjJ",
        "colab_type": "text"
      },
      "source": [
        "We observe in both unit and weight pruning cases that networks can be pruned up to 60% sparsity without significant drop in performance. This is due to the overparametrisation of the network meaning a lot of the parameters are redundant.\n",
        "\n",
        "From both weight and unit pruning we can see that the performance doesn't degrade too significantly up till about 50% pruning. For unit pruning with > 50% sparsity the performance drops off quite significantly whilst for weight pruning it continue to degrade only slowly. This is a pretty interesting result and could be due to the fact that the representational capacity of the weight pruned sparse model continues to be reasonable in comparison to the unit pruned model even with high sparsity."
      ]
    },
    {
      "cell_type": "markdown",
      "metadata": {
        "id": "7FK5BXIHaKdj",
        "colab_type": "text"
      },
      "source": [
        "\n",
        "\n",
        "*   You can't assign directly to a tensor\n",
        "*   Using a mask lets you stop backprop changing weights\n",
        "*   \n",
        "\n"
      ]
    }
  ]
}