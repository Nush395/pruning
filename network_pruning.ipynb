{
  "nbformat": 4,
  "nbformat_minor": 0,
  "metadata": {
    "colab": {
      "name": "network_pruning.ipynb",
      "provenance": [],
      "toc_visible": true,
      "authorship_tag": "ABX9TyNlDxcGlSKhA0NODRFsM/Fc",
      "include_colab_link": true
    },
    "kernelspec": {
      "name": "python3",
      "display_name": "Python 3"
    }
  },
  "cells": [
    {
      "cell_type": "markdown",
      "metadata": {
        "id": "view-in-github",
        "colab_type": "text"
      },
      "source": [
        "<a href=\"https://colab.research.google.com/github/Nush395/pruning/blob/master/network_pruning.ipynb\" target=\"_parent\"><img src=\"https://colab.research.google.com/assets/colab-badge.svg\" alt=\"Open In Colab\"/></a>"
      ]
    },
    {
      "cell_type": "markdown",
      "metadata": {
        "id": "1wHP03ngQSNM",
        "colab_type": "text"
      },
      "source": [
        "# Introduction"
      ]
    },
    {
      "cell_type": "markdown",
      "metadata": {
        "id": "-h88bRgyQdsl",
        "colab_type": "text"
      },
      "source": [
        "Training a large network on MNIST and then pruning it to make it smaller using weight and unit pruning."
      ]
    },
    {
      "cell_type": "markdown",
      "metadata": {
        "id": "kI2GlhjsQ0FH",
        "colab_type": "text"
      },
      "source": [
        "# Requirements and Imports"
      ]
    },
    {
      "cell_type": "code",
      "metadata": {
        "id": "02eRc_vDrOFj",
        "colab_type": "code",
        "colab": {}
      },
      "source": [
        "!pip install tensorflow==2.2.0"
      ],
      "execution_count": null,
      "outputs": []
    },
    {
      "cell_type": "markdown",
      "metadata": {
        "id": "ftF3TUd9OxxH",
        "colab_type": "text"
      },
      "source": [
        "# Data and model set up"
      ]
    },
    {
      "cell_type": "code",
      "metadata": {
        "id": "Xg2zuUhyRzdd",
        "colab_type": "code",
        "colab": {}
      },
      "source": [
        "import tensorflow as tf\n",
        "from tensorflow.keras.layers import Lambda, ReLU, Dense, Flatten\n",
        "import numpy as np\n",
        "import pandas as pd\n",
        "import matplotlib.pyplot as plt\n",
        "import time"
      ],
      "execution_count": 16,
      "outputs": []
    },
    {
      "cell_type": "markdown",
      "metadata": {
        "id": "h2r4n0A2R51D",
        "colab_type": "text"
      },
      "source": [
        "## Define a Pruned Model"
      ]
    },
    {
      "cell_type": "markdown",
      "metadata": {
        "id": "cosNLDLMrs_u",
        "colab_type": "text"
      },
      "source": [
        "Here I've defined a custom model which contains methods to prune units and neurons. A mask is applied to weights with value zero (I've assumed a weight will only be zero if it's pruned) so that they won't be updated by backprop anymore."
      ]
    },
    {
      "cell_type": "code",
      "metadata": {
        "id": "KDKYbScAWXJr",
        "colab_type": "code",
        "colab": {}
      },
      "source": [
        "class PruneLayer(Dense):\n",
        "    def __init__(self, units):\n",
        "        super().__init__(units, use_bias=False, activation='relu')\n",
        "        self.sparse_kernel = None\n",
        "        self.sparse_compute = False\n",
        "\n",
        "    def build(self, input_shape):\n",
        "        super().build(input_shape)\n",
        "        self.mask = tf.ones_like(self.kernel, dtype=tf.float32)\n",
        "\n",
        "    def create_sparse_kernel(self):\n",
        "        if self.built:\n",
        "            self.sparse_kernel = tf.sparse.from_dense(self.kernel)\n",
        "            self.sparse_compute = True\n",
        "        else:\n",
        "            raise Exception(\"There isn't yet a kernel to make sparse.\")\n",
        "\n",
        "    def reset_sparse_kernel(self):\n",
        "        self.sparse_kernel = None\n",
        "        self.sparse_compute = False\n",
        "\n",
        "    def call(self, inputs, training=None):\n",
        "        if self.sparse_compute and not training:\n",
        "            x = tf.sparse.sparse_dense_matmul(inputs, self.sparse_kernel)\n",
        "        else:\n",
        "            x = tf.linalg.matmul(inputs, self.mask * self.kernel)\n",
        "\n",
        "        return self.activation(x) "
      ],
      "execution_count": 17,
      "outputs": []
    },
    {
      "cell_type": "code",
      "metadata": {
        "id": "KUVcUsRfSE3L",
        "colab_type": "code",
        "colab": {}
      },
      "source": [
        "class PruneModel(tf.keras.Model):\n",
        "    def __init__(self, sparse_compute=False):\n",
        "        super().__init__()\n",
        "        hidden_layer_units = [1000, 1000, 500, 200]\n",
        "        self.hidden_layers = [PruneLayer(units) for units in hidden_layer_units]\n",
        "        self.prunable_layers = self.hidden_layers\n",
        "        self.output_layer = Dense(10, activation='softmax', use_bias=False)\n",
        "\n",
        "    def call(self, inputs):\n",
        "        x = Flatten()(inputs)\n",
        "        for layer in self.hidden_layers:\n",
        "            x = layer(x)\n",
        "\n",
        "        return self.output_layer(x)\n",
        "\n",
        "    def prune(self, sparsity: float, mode='weight'):\n",
        "        \"\"\"Apply pruning of specified mode to all the layers that have been\n",
        "        defined as prunable_layers.\n",
        "\n",
        "        Args:\n",
        "            sparsity: The percentage of sparsity to be achieved.\n",
        "            mode: The pruning criterion to use.\n",
        "        \"\"\"\n",
        "        if not self.built:\n",
        "            raise ValueError(\"Model must be built.\")\n",
        "        if not 0 <= sparsity < 100:\n",
        "            raise ValueError(\"Sparsity must be in [0,100].\")\n",
        "\n",
        "        for layer in self.prunable_layers:\n",
        "            weights = layer.get_weights()[0]\n",
        "            if mode == 'weight':\n",
        "                pruned_weights = self._prune_matrix_weights(weights, sparsity)\n",
        "            elif mode == 'unit':\n",
        "                pruned_weights = self._prune_matrix_units(weights, sparsity)\n",
        "            else:\n",
        "                raise ValueError(\"Unrecognised mode of pruning.\")\n",
        "\n",
        "            layer.set_weights([pruned_weights])\n",
        "            layer.mask = tf.cast(tf.not_equal(layer.kernel,0), 'float32')\n",
        "\n",
        "    @staticmethod\n",
        "    def _prune_matrix_weights(weights: np.ndarray, sparsity: float):\n",
        "        \"\"\"Prune a percentage of the weights in a layer that have the smallest\n",
        "        magnitude.\n",
        "        \n",
        "        Args:\n",
        "            weights: The input weight matrix to be pruned.\n",
        "            sparsity: The percantage of weights to prune.\n",
        "        Returns:\n",
        "            pruned_weights: The pruned weight matrix.\n",
        "        \"\"\"\n",
        "        pruned_weights = weights.flatten()\n",
        "        num_to_prune = int(len(pruned_weights) * (sparsity / 100))\n",
        "        smallest_indices = np.argpartition(np.absolute(pruned_weights), \n",
        "                                           num_to_prune)[:num_to_prune]\n",
        "        pruned_weights[smallest_indices] = 0\n",
        "        pruned_weights = pruned_weights.reshape(weights.shape)\n",
        "\n",
        "        return pruned_weights\n",
        "\n",
        "    @staticmethod\n",
        "    def _prune_matrix_units(weights: np.ndarray, sparsity: float):\n",
        "        \"\"\"Prune a percentage of the columns of the input matrix that have the\n",
        "        smallest L2 norm.\n",
        "\n",
        "        Args:\n",
        "            weights: The input weight matrix to be pruned.\n",
        "            sparsity: The percentage of columns to prune.\n",
        "        Returns:\n",
        "            weights: The pruned weight matrix.\n",
        "        \"\"\"\n",
        "        num_to_prune = int(weights.shape[1] * (sparsity / 100))\n",
        "        norms = np.linalg.norm(weights, axis=0)\n",
        "        smallest_indices = np.argpartition(norms, num_to_prune)[:num_to_prune]\n",
        "        weights[:, smallest_indices] = 0\n",
        "\n",
        "        return weights\n",
        "\n",
        "    def create_sparse_kernels(self):\n",
        "        for layer in self.prunable_layers:\n",
        "            layer.create_sparse_kernel()\n",
        "\n",
        "    def reset_sparse_kernels(self):\n",
        "        for layer in self.prunable_layers:\n",
        "            layer.reset_sparse_kernel()"
      ],
      "execution_count": 18,
      "outputs": []
    },
    {
      "cell_type": "markdown",
      "metadata": {
        "id": "wELJI40eWqL4",
        "colab_type": "text"
      },
      "source": [
        "## Data, model preparation and training.\n",
        "\n",
        "---\n",
        "\n"
      ]
    },
    {
      "cell_type": "markdown",
      "metadata": {
        "id": "adIb64GXsiIS",
        "colab_type": "text"
      },
      "source": [
        "Preparation of MNIST data, fitting and then evaluating the unpruned model."
      ]
    },
    {
      "cell_type": "code",
      "metadata": {
        "id": "aocWoNjLW5pp",
        "colab_type": "code",
        "colab": {}
      },
      "source": [
        "# create a model\n",
        "model = PruneModel()\n",
        "model.compile(loss='sparse_categorical_crossentropy', optimizer='adam',\n",
        "              metrics=['accuracy'])\n",
        "es = tf.keras.callbacks.EarlyStopping(monitor='val_loss', mode='min', verbose=0, \n",
        "                                      patience=5)"
      ],
      "execution_count": 19,
      "outputs": []
    },
    {
      "cell_type": "code",
      "metadata": {
        "id": "Dgoe8WaEXqfc",
        "colab_type": "code",
        "colab": {}
      },
      "source": [
        "# load MNIST data\n",
        "(x_train, y_train), (x_test, y_test) = tf.keras.datasets.mnist.load_data()\n",
        "\n",
        "# Preprocess the data (these are NumPy arrays)\n",
        "x_train = x_train.reshape(60000, 784).astype(\"float32\") / 255\n",
        "x_test = x_test.reshape(10000, 784).astype(\"float32\") / 255\n",
        "y_train = y_train.astype(\"float32\")\n",
        "y_test = y_test.astype(\"float32\")"
      ],
      "execution_count": 20,
      "outputs": []
    },
    {
      "cell_type": "code",
      "metadata": {
        "id": "de5hky_eXvxj",
        "colab_type": "code",
        "colab": {}
      },
      "source": [
        "# fit the model\n",
        "history = model.fit(x_train, y_train, batch_size=512, epochs=100, \n",
        "                    validation_split=0.2, callbacks=[es])"
      ],
      "execution_count": null,
      "outputs": []
    },
    {
      "cell_type": "code",
      "metadata": {
        "id": "_talT2UXX69A",
        "colab_type": "code",
        "colab": {
          "base_uri": "https://localhost:8080/",
          "height": 50
        },
        "outputId": "e28dfbd2-1012-4100-a0c7-7fa59347f418"
      },
      "source": [
        "# Evaluate the model on the unseen test data.\n",
        "test_scores = model.evaluate(x_test, y_test, verbose=0)\n",
        "print('Test loss:', test_scores[0])\n",
        "print('Test accuracy:', test_scores[1])"
      ],
      "execution_count": 22,
      "outputs": [
        {
          "output_type": "stream",
          "text": [
            "Test loss: 0.11382591724395752\n",
            "Test accuracy: 0.9732999801635742\n"
          ],
          "name": "stdout"
        }
      ]
    },
    {
      "cell_type": "markdown",
      "metadata": {
        "id": "gr0a5EP7O8HH",
        "colab_type": "text"
      },
      "source": [
        "# Pruning Evaluation"
      ]
    },
    {
      "cell_type": "markdown",
      "metadata": {
        "id": "mlMPqrbFst1-",
        "colab_type": "text"
      },
      "source": [
        "## Before fine-tuning"
      ]
    },
    {
      "cell_type": "code",
      "metadata": {
        "id": "rXBXppvatJVs",
        "colab_type": "code",
        "colab": {}
      },
      "source": [
        "unpruned_weights = model.get_weights()\n",
        "pruning_factors = [0, 25, 50, 60, 70, 80, 90, 95, 97, 99]"
      ],
      "execution_count": 23,
      "outputs": []
    },
    {
      "cell_type": "code",
      "metadata": {
        "id": "GcGFVA__tOTr",
        "colab_type": "code",
        "colab": {}
      },
      "source": [
        "w_pruning_acc = []\n",
        "for pf in pruning_factors:\n",
        "    model.prune(pf, mode='weight')\n",
        "    test_scores = model.evaluate(x_test, y_test, verbose=0)\n",
        "    w_pruning_acc.append(test_scores[1])"
      ],
      "execution_count": 24,
      "outputs": []
    },
    {
      "cell_type": "code",
      "metadata": {
        "id": "MbmxfGsitKRv",
        "colab_type": "code",
        "colab": {}
      },
      "source": [
        "u_pruning_acc = []\n",
        "model.set_weights(unpruned_weights)\n",
        "for pf in pruning_factors:\n",
        "    model.prune(pf, mode='unit')\n",
        "    test_scores = model.evaluate(x_test, y_test, verbose=0)\n",
        "    u_pruning_acc.append(test_scores[1])"
      ],
      "execution_count": 25,
      "outputs": []
    },
    {
      "cell_type": "code",
      "metadata": {
        "id": "ov-BkkQHtt24",
        "colab_type": "code",
        "colab": {
          "base_uri": "https://localhost:8080/",
          "height": 312
        },
        "outputId": "764ce6e5-df2d-4536-cca2-686de75e401c"
      },
      "source": [
        "df = pd.DataFrame(index=pruning_factors, data={'unit prune': u_pruning_acc,\n",
        "                                               'weight prune': w_pruning_acc})\n",
        "ax = df.plot.line(title='MNIST accuracy for varying sparsity from unit and weight pruning.')\n",
        "ax.set_xlabel(\"Sparsity percentage\")\n",
        "ax.set_ylabel(\"Accuracy\")"
      ],
      "execution_count": 26,
      "outputs": [
        {
          "output_type": "execute_result",
          "data": {
            "text/plain": [
              "Text(0, 0.5, 'Accuracy')"
            ]
          },
          "metadata": {
            "tags": []
          },
          "execution_count": 26
        },
        {
          "output_type": "display_data",
          "data": {
            "image/png": "[encoded data removed]",
            "text/plain": [
              "<Figure size 432x288 with 1 Axes>"
            ]
          },
          "metadata": {
            "tags": [],
            "needs_background": "light"
          }
        }
      ]
    },
    {
      "cell_type": "markdown",
      "metadata": {
        "id": "9-Kup1dDsxIO",
        "colab_type": "text"
      },
      "source": [
        "## After fine-tuning"
      ]
    },
    {
      "cell_type": "markdown",
      "metadata": {
        "id": "XRsSq_aWAizf",
        "colab_type": "text"
      },
      "source": [
        "As mentioned in [this post](https://jacobgil.github.io/deeplearning/pruning-deep-learning) significant pruning can damage the network so much it can't recover so in practice we want to iteratively prune, retrain and repeat. In this section I fine tune the pruned networks to see if they can learn something using the new structure. \n",
        "\n",
        "Note: There are 10 models fine tuned for each pruning method here for as many epochs as they take to overfit the training set. This takes a bit longer so you can reduce the max_epochs variable defined below to make this faster."
      ]
    },
    {
      "cell_type": "code",
      "metadata": {
        "id": "cDTXCuShCSAa",
        "colab_type": "code",
        "colab": {}
      },
      "source": [
        "max_epochs = 100"
      ],
      "execution_count": 27,
      "outputs": []
    },
    {
      "cell_type": "code",
      "metadata": {
        "id": "XCQTSQ2cArsx",
        "colab_type": "code",
        "colab": {}
      },
      "source": [
        "# fine tuning after weight pruning\n",
        "model.set_weights(unpruned_weights)\n",
        "w_pruning_acc = []\n",
        "for pf in pruning_factors:\n",
        "    model.prune(pf, mode='weight')\n",
        "    model.compile(loss='sparse_categorical_crossentropy', \n",
        "                  optimizer='adam', metrics=['accuracy'])\n",
        "    model.fit(x_train, y_train, batch_size=512, epochs=max_epochs, \n",
        "              validation_split=0.2, callbacks=[es], verbose=0)\n",
        "    test_scores = model.evaluate(x_test, y_test, verbose=0)\n",
        "    w_pruning_acc.append(test_scores[1])"
      ],
      "execution_count": 28,
      "outputs": []
    },
    {
      "cell_type": "code",
      "metadata": {
        "id": "-iudv2iNElYV",
        "colab_type": "code",
        "colab": {}
      },
      "source": [
        "# fine tuning after unit pruning\n",
        "model.set_weights(unpruned_weights)\n",
        "u_pruning_acc = []\n",
        "for pf in pruning_factors:\n",
        "    model.prune(pf, mode='unit')\n",
        "    model.compile(loss='sparse_categorical_crossentropy',\n",
        "                  optimizer='adam', metrics=['accuracy'])\n",
        "    model.fit(x_train, y_train, batch_size=512, epochs=max_epochs, \n",
        "              validation_split=0.2, callbacks=[es], verbose=0)\n",
        "    test_scores = model.evaluate(x_test, y_test, verbose=0)\n",
        "    u_pruning_acc.append(test_scores[1]) "
      ],
      "execution_count": 29,
      "outputs": []
    },
    {
      "cell_type": "code",
      "metadata": {
        "id": "yx-CEq4WFLx2",
        "colab_type": "code",
        "colab": {
          "base_uri": "https://localhost:8080/",
          "height": 312
        },
        "outputId": "46d6e043-9729-4740-81c9-6828c5ab3b37"
      },
      "source": [
        "df = pd.DataFrame(index=pruning_factors, data={'unit prune': u_pruning_acc,\n",
        "                                               'weight prune': w_pruning_acc})\n",
        "ax = df.plot.line(title=('MNIST accuracy for varying sparsity from unit and weight pruning - post fine tuning.'))\n",
        "ax.set_xlabel(\"Sparsity percentage\")\n",
        "ax.set_ylabel(\"Accuracy\")"
      ],
      "execution_count": 30,
      "outputs": [
        {
          "output_type": "execute_result",
          "data": {
            "text/plain": [
              "Text(0, 0.5, 'Accuracy')"
            ]
          },
          "metadata": {
            "tags": []
          },
          "execution_count": 30
        },
        {
          "output_type": "display_data",
          "data": {
            "image/png": "[encoded data removed]",
            "text/plain": [
              "<Figure size 432x288 with 1 Axes>"
            ]
          },
          "metadata": {
            "tags": [],
            "needs_background": "light"
          }
        }
      ]
    },
    {
      "cell_type": "markdown",
      "metadata": {
        "id": "g644eTcPp9VK",
        "colab_type": "text"
      },
      "source": [
        "Fine tuning has definitely improved the pruned model performance!"
      ]
    },
    {
      "cell_type": "markdown",
      "metadata": {
        "id": "Fq6VxywkFcuJ",
        "colab_type": "text"
      },
      "source": [
        "# Bonus - Improving inference time for sparse model"
      ]
    },
    {
      "cell_type": "markdown",
      "metadata": {
        "id": "n-_KADhPFhWQ",
        "colab_type": "text"
      },
      "source": [
        "In the TF Docs I found that the tf.sparse module has a sparse_dense_matmul method for taking advantage of one matrix being sparse. As the sparse weight pruned models still perform well, going to have a play and see if we can speed up inference time exploiting these optimisations."
      ]
    },
    {
      "cell_type": "code",
      "metadata": {
        "id": "IzPn7d5SfMQv",
        "colab_type": "code",
        "colab": {}
      },
      "source": [
        "normal_infer = []\n",
        "sparse_infer = []\n",
        "\n",
        "for pf in pruning_factors:\n",
        "    # normal inference\n",
        "    model.set_weights(unpruned_weights)\n",
        "    \n",
        "    model.compile(loss='sparse_categorical_crossentropy',\n",
        "                  optimizer='adam', metrics=['accuracy'])\n",
        "    start_time = time.time()\n",
        "    predict1 = model.predict(x_test, verbose=0)  \n",
        "    normal_infer.append(time.time()-start_time)\n",
        "\n",
        "    # inference with sparse optimisation\n",
        "    model.prune(pf)\n",
        "    model.create_sparse_kernels()\n",
        "    \n",
        "    model.compile(loss='sparse_categorical_crossentropy',\n",
        "                  optimizer='adam', metrics=['accuracy'])\n",
        "    start_time = time.time()\n",
        "    predict2 = model.predict(x_test, verbose=0)\n",
        "    sparse_infer.append(time.time()-start_time)\n",
        "\n",
        "    # reset the sparse kernel for the next iteration\n",
        "    model.reset_sparse_kernels()"
      ],
      "execution_count": 31,
      "outputs": []
    },
    {
      "cell_type": "code",
      "metadata": {
        "id": "ZV0jaDUP2Uwx",
        "colab_type": "code",
        "colab": {
          "base_uri": "https://localhost:8080/",
          "height": 312
        },
        "outputId": "9acc0b66-07ce-4bc8-e097-dd8dbf6cd119"
      },
      "source": [
        "df = pd.DataFrame(index=pruning_factors, data={'normal_infer': normal_infer,\n",
        "                                               'sparse_infer': sparse_infer})\n",
        "ax = df.plot.line(title=\"Comparison of time taken to do infer on test dataset.\")\n",
        "ax.set_xlabel('Sparsity percentage')\n",
        "ax.set_ylabel('Time for inference/s')"
      ],
      "execution_count": 32,
      "outputs": [
        {
          "output_type": "execute_result",
          "data": {
            "text/plain": [
              "Text(0, 0.5, 'Time for inference/s')"
            ]
          },
          "metadata": {
            "tags": []
          },
          "execution_count": 32
        },
        {
          "output_type": "display_data",
          "data": {
            "image/png": "[encoded data removed]",
            "text/plain": [
              "<Figure size 432x288 with 1 Axes>"
            ]
          },
          "metadata": {
            "tags": [],
            "needs_background": "light"
          }
        }
      ]
    },
    {
      "cell_type": "markdown",
      "metadata": {
        "id": "ZS0_uiZhXch3",
        "colab_type": "text"
      },
      "source": [
        "So taking advantage of sparse computations in this case does yield faster inference but only if the sparsity is above a certain threshold."
      ]
    },
    {
      "cell_type": "markdown",
      "metadata": {
        "id": "SncVoL6kaHHx",
        "colab_type": "text"
      },
      "source": [
        "# Conclusions"
      ]
    },
    {
      "cell_type": "markdown",
      "metadata": {
        "id": "ArP3nHvmPNjJ",
        "colab_type": "text"
      },
      "source": [
        "We observe in both curves for unit and weight pruning cases that networks can be pruned up to 80% sparsity without significant drop in performance. In fact after fine-tuning the accuracy of some of the networks pruned using weight pruning increases. The curves before and after fine tuning show that fine tuning is important in this task for restoring the model's performance, as mentioned in [this post](https://jacobgil.github.io/deeplearning/pruning-deep-learning) the network can be damaged if we prune too much and so fine-tuning helps the performance recover.\n",
        "\n",
        "In terms of explaining why we can delete so much of the original network and maintan accuracy, previous work on pruning [1] demonstrates that the function learned by a neural network can often be represented with much fewer parameters so we can delete a large amount of the network without hurting performance provided we keep the important parameters. An interesting hypothesis mentioned in [2] is that the structure uncovered by the sparse networks encode an inductive bias customized to the learning task at hand, in this case image recognition for digits. Following this hypothesis we could say that the original network encodes lots of different structure configurations, allowing us to learn the optimal structure. Then once we learn the optimal one we can strip away the rest of the network without harming the performance.\n",
        "\n",
        "The pruning vs accuracy curves also show that weight pruning is more robust than unit pruning. I found this to be a pretty interesting result and could be explained by the fact that the representational capacity of the weight pruned network remains higher than that of the unit pruned network as we can project the data into a higher-dimensional embedding if there are more neurons.\n",
        "\n",
        "We also found that in this task taking advantage of Tensorflow sparse matrix multiplication helps to get faster inference time but only if the network is sparse enough. As this network is quite small compared to some modern deep neural networks the effect of taking advantage of sparse computations would be even greater in a larger network.\n"
      ]
    },
    {
      "cell_type": "markdown",
      "metadata": {
        "id": "mcQ9DaPqSkjf",
        "colab_type": "text"
      },
      "source": [
        "# References\n",
        "\n",
        "[1] Song Han, Jeff Pool, John Tran, and William Dally. Learning both weights and connections for\n",
        "efficient neural network. In Advances in neural information processing systems, pp. 1135–1143,\n",
        "2015\n",
        "\n",
        "[2] J. Frankle and M. Carbin. The lottery ticket hypothesis: Finding sparse, trainable neural networks. In\n",
        "International Conference on Learning Representations (ICLR), 2019."
      ]
    }
  ]
}